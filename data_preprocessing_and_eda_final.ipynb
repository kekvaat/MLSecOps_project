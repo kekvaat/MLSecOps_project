{
 "cells": [
  {
   "cell_type": "markdown",
   "id": "0b71564d",
   "metadata": {},
   "source": [
    "# Egészségügyi MLOps Projekt\n",
    "\n",
    "## Adat előkészítés és EDA (Exploratív Adatvizsgálat)"
   ]
  },
  {
   "cell_type": "code",
   "execution_count": null,
   "id": "66bec862",
   "metadata": {},
   "outputs": [],
   "source": [
    "import pandas as pd\n",
    "import matplotlib.pyplot as plt\n",
    "import seaborn as sns\n",
    "\n",
    "# Adatok betöltése\n",
    "# df = pd.read_csv('../data/healthcare_dataset.csv')\n",
    "df = pd.DataFrame()  # Ideiglenes placeholder"
   ]
  },
  {
   "cell_type": "markdown",
   "id": "968be8fd",
   "metadata": {},
   "source": [
    "## Alapinformációk az adatról"
   ]
  },
  {
   "cell_type": "code",
   "execution_count": null,
   "id": "c04bedb4",
   "metadata": {},
   "outputs": [],
   "source": [
    "df.head()"
   ]
  },
  {
   "cell_type": "code",
   "execution_count": null,
   "id": "43b353ba",
   "metadata": {},
   "outputs": [],
   "source": [
    "df.info()"
   ]
  },
  {
   "cell_type": "code",
   "execution_count": null,
   "id": "8465e972",
   "metadata": {},
   "outputs": [],
   "source": [
    "df.describe(include='all')"
   ]
  },
  {
   "cell_type": "markdown",
   "id": "aa63fc5e",
   "metadata": {},
   "source": [
    "## Hiányzó értékek vizsgálata"
   ]
  },
  {
   "cell_type": "code",
   "execution_count": null,
   "id": "0299f484",
   "metadata": {},
   "outputs": [],
   "source": [
    "df.isnull().sum()"
   ]
  },
  {
   "cell_type": "markdown",
   "id": "25a37e83",
   "metadata": {},
   "source": [
    "## Célváltozó eloszlása"
   ]
  },
  {
   "cell_type": "code",
   "execution_count": null,
   "id": "5b02c37d",
   "metadata": {},
   "outputs": [],
   "source": [
    "# sns.countplot(x='target_column', data=df)\n",
    "# plt.title('Célváltozó eloszlása')\n",
    "# plt.show()"
   ]
  },
  {
   "cell_type": "markdown",
   "id": "f5aadaa3",
   "metadata": {},
   "source": [
    "## Korrelációs mátrix"
   ]
  },
  {
   "cell_type": "code",
   "execution_count": null,
   "id": "a403a233",
   "metadata": {},
   "outputs": [],
   "source": [
    "# numeric_df = df.select_dtypes(include=['int64', 'float64'])\n",
    "# corr = numeric_df.corr()\n",
    "# plt.figure(figsize=(12, 8))\n",
    "# sns.heatmap(corr, annot=True, cmap='coolwarm')\n",
    "# plt.title('Korrelációs mátrix')\n",
    "# plt.show()"
   ]
  },
  {
   "cell_type": "code",
   "execution_count": null,
   "id": "3fc97553",
   "metadata": {},
   "outputs": [],
   "source": [
    "\n",
    "import pandas as pd\n",
    "import matplotlib.pyplot as plt\n",
    "import seaborn as sns\n",
    "from sklearn.model_selection import train_test_split\n",
    "from sklearn.ensemble import RandomForestClassifier\n",
    "from sklearn.metrics import classification_report\n",
    "import joblib\n",
    "\n",
    "# Adatok betöltése\n",
    "df = pd.read_csv(\"data/healthcare_dataset.csv\")\n",
    "df.head()\n"
   ]
  },
  {
   "cell_type": "code",
   "execution_count": null,
   "id": "4ff855e4",
   "metadata": {},
   "outputs": [],
   "source": [
    "\n",
    "# Adatok alapstatisztikája és eloszlásai\n",
    "print(df.describe())\n",
    "sns.countplot(x='Outcome', data=df)\n",
    "plt.title(\"Célváltozó eloszlása\")\n",
    "plt.show()\n"
   ]
  },
  {
   "cell_type": "code",
   "execution_count": null,
   "id": "7bc2776b",
   "metadata": {},
   "outputs": [],
   "source": [
    "\n",
    "# Ellenőrizzük a hiányzó értékeket\n",
    "print(df.isnull().sum())\n",
    "\n",
    "# Feltételezzük, hogy nincs hiányzó érték, ha lenne, itt pótolnánk vagy eldobnánk\n",
    "# df = df.dropna()\n"
   ]
  },
  {
   "cell_type": "code",
   "execution_count": null,
   "id": "44076f3b",
   "metadata": {},
   "outputs": [],
   "source": [
    "\n",
    "# Feature és célváltozó szétválasztása\n",
    "X = df.drop(\"Outcome\", axis=1)\n",
    "y = df[\"Outcome\"]\n",
    "\n",
    "# Train-test split\n",
    "X_train, X_test, y_train, y_test = train_test_split(X, y, test_size=0.2, random_state=42)\n",
    "\n",
    "# Modell tanítása\n",
    "model = RandomForestClassifier(n_estimators=100, random_state=42)\n",
    "model.fit(X_train, y_train)\n",
    "\n",
    "# Előrejelzés és kiértékelés\n",
    "y_pred = model.predict(X_test)\n",
    "print(classification_report(y_test, y_pred))\n"
   ]
  },
  {
   "cell_type": "code",
   "execution_count": null,
   "id": "d93e9fe2",
   "metadata": {},
   "outputs": [],
   "source": [
    "\n",
    "# Modell mentése fájlba\n",
    "joblib.dump(model, \"model.joblib\")\n",
    "print(\"Modell elmentve: model.joblib\")\n"
   ]
  }
 ],
 "metadata": {},
 "nbformat": 4,
 "nbformat_minor": 5
}
